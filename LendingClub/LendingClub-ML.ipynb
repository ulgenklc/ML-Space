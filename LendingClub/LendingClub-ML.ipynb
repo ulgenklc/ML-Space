{
 "cells": [
  {
   "cell_type": "code",
   "execution_count": 1,
   "id": "00488232-771e-439f-a58b-88eca356a42d",
   "metadata": {},
   "outputs": [],
   "source": [
    "import pandas as pd\n",
    "import numpy as np\n",
    "\n",
    "from sklearn.model_selection import train_test_split\n",
    "from sklearn.tree import DecisionTreeClassifier\n",
    "from sklearn.ensemble import RandomForestClassifier\n",
    "from sklearn.linear_model import LogisticRegression\n",
    "from sklearn.preprocessing import MinMaxScaler\n",
    "\n",
    "from sklearn.metrics import classification_report, confusion_matrix\n",
    "\n",
    "from tensorflow.keras.models import Sequential\n",
    "from tensorflow.keras.layers import Dense, Dropout"
   ]
  },
  {
   "cell_type": "code",
   "execution_count": 2,
   "id": "e48f7bf1-b258-4b87-881b-1c99208b46f0",
   "metadata": {},
   "outputs": [],
   "source": [
    "data = pd.read_csv('lending_club_loan_clean.csv')"
   ]
  },
  {
   "cell_type": "code",
   "execution_count": 3,
   "id": "fc0d39cc-ede4-4258-b64c-002b6829bbe2",
   "metadata": {},
   "outputs": [
    {
     "data": {
      "text/html": [
       "<div>\n",
       "<style scoped>\n",
       "    .dataframe tbody tr th:only-of-type {\n",
       "        vertical-align: middle;\n",
       "    }\n",
       "\n",
       "    .dataframe tbody tr th {\n",
       "        vertical-align: top;\n",
       "    }\n",
       "\n",
       "    .dataframe thead th {\n",
       "        text-align: right;\n",
       "    }\n",
       "</style>\n",
       "<table border=\"1\" class=\"dataframe\">\n",
       "  <thead>\n",
       "    <tr style=\"text-align: right;\">\n",
       "      <th></th>\n",
       "      <th>Unnamed: 0</th>\n",
       "      <th>loan_amnt</th>\n",
       "      <th>term</th>\n",
       "      <th>int_rate</th>\n",
       "      <th>installment</th>\n",
       "      <th>annual_inc</th>\n",
       "      <th>loan_status</th>\n",
       "      <th>dti</th>\n",
       "      <th>earliest_cr_line</th>\n",
       "      <th>open_acc</th>\n",
       "      <th>...</th>\n",
       "      <th>home_ownership_RENT</th>\n",
       "      <th>zip_code_05113</th>\n",
       "      <th>zip_code_11650</th>\n",
       "      <th>zip_code_22690</th>\n",
       "      <th>zip_code_29597</th>\n",
       "      <th>zip_code_30723</th>\n",
       "      <th>zip_code_48052</th>\n",
       "      <th>zip_code_70466</th>\n",
       "      <th>zip_code_86630</th>\n",
       "      <th>zip_code_93700</th>\n",
       "    </tr>\n",
       "  </thead>\n",
       "  <tbody>\n",
       "    <tr>\n",
       "      <th>0</th>\n",
       "      <td>0</td>\n",
       "      <td>10000.0</td>\n",
       "      <td>36</td>\n",
       "      <td>11.44</td>\n",
       "      <td>329.48</td>\n",
       "      <td>117000.0</td>\n",
       "      <td>Fully Paid</td>\n",
       "      <td>26.24</td>\n",
       "      <td>1990</td>\n",
       "      <td>16.0</td>\n",
       "      <td>...</td>\n",
       "      <td>1</td>\n",
       "      <td>0</td>\n",
       "      <td>0</td>\n",
       "      <td>1</td>\n",
       "      <td>0</td>\n",
       "      <td>0</td>\n",
       "      <td>0</td>\n",
       "      <td>0</td>\n",
       "      <td>0</td>\n",
       "      <td>0</td>\n",
       "    </tr>\n",
       "    <tr>\n",
       "      <th>1</th>\n",
       "      <td>1</td>\n",
       "      <td>8000.0</td>\n",
       "      <td>36</td>\n",
       "      <td>11.99</td>\n",
       "      <td>265.68</td>\n",
       "      <td>65000.0</td>\n",
       "      <td>Fully Paid</td>\n",
       "      <td>22.05</td>\n",
       "      <td>2004</td>\n",
       "      <td>17.0</td>\n",
       "      <td>...</td>\n",
       "      <td>0</td>\n",
       "      <td>1</td>\n",
       "      <td>0</td>\n",
       "      <td>0</td>\n",
       "      <td>0</td>\n",
       "      <td>0</td>\n",
       "      <td>0</td>\n",
       "      <td>0</td>\n",
       "      <td>0</td>\n",
       "      <td>0</td>\n",
       "    </tr>\n",
       "    <tr>\n",
       "      <th>2</th>\n",
       "      <td>2</td>\n",
       "      <td>15600.0</td>\n",
       "      <td>36</td>\n",
       "      <td>10.49</td>\n",
       "      <td>506.97</td>\n",
       "      <td>43057.0</td>\n",
       "      <td>Fully Paid</td>\n",
       "      <td>12.79</td>\n",
       "      <td>2007</td>\n",
       "      <td>13.0</td>\n",
       "      <td>...</td>\n",
       "      <td>1</td>\n",
       "      <td>1</td>\n",
       "      <td>0</td>\n",
       "      <td>0</td>\n",
       "      <td>0</td>\n",
       "      <td>0</td>\n",
       "      <td>0</td>\n",
       "      <td>0</td>\n",
       "      <td>0</td>\n",
       "      <td>0</td>\n",
       "    </tr>\n",
       "    <tr>\n",
       "      <th>3</th>\n",
       "      <td>3</td>\n",
       "      <td>7200.0</td>\n",
       "      <td>36</td>\n",
       "      <td>6.49</td>\n",
       "      <td>220.65</td>\n",
       "      <td>54000.0</td>\n",
       "      <td>Fully Paid</td>\n",
       "      <td>2.60</td>\n",
       "      <td>2006</td>\n",
       "      <td>6.0</td>\n",
       "      <td>...</td>\n",
       "      <td>1</td>\n",
       "      <td>0</td>\n",
       "      <td>0</td>\n",
       "      <td>0</td>\n",
       "      <td>0</td>\n",
       "      <td>0</td>\n",
       "      <td>0</td>\n",
       "      <td>0</td>\n",
       "      <td>0</td>\n",
       "      <td>0</td>\n",
       "    </tr>\n",
       "    <tr>\n",
       "      <th>4</th>\n",
       "      <td>4</td>\n",
       "      <td>24375.0</td>\n",
       "      <td>60</td>\n",
       "      <td>17.27</td>\n",
       "      <td>609.33</td>\n",
       "      <td>55000.0</td>\n",
       "      <td>Charged Off</td>\n",
       "      <td>33.95</td>\n",
       "      <td>1999</td>\n",
       "      <td>13.0</td>\n",
       "      <td>...</td>\n",
       "      <td>0</td>\n",
       "      <td>0</td>\n",
       "      <td>1</td>\n",
       "      <td>0</td>\n",
       "      <td>0</td>\n",
       "      <td>0</td>\n",
       "      <td>0</td>\n",
       "      <td>0</td>\n",
       "      <td>0</td>\n",
       "      <td>0</td>\n",
       "    </tr>\n",
       "  </tbody>\n",
       "</table>\n",
       "<p>5 rows × 81 columns</p>\n",
       "</div>"
      ],
      "text/plain": [
       "   Unnamed: 0  loan_amnt  term  int_rate  installment  annual_inc  \\\n",
       "0           0    10000.0    36     11.44       329.48    117000.0   \n",
       "1           1     8000.0    36     11.99       265.68     65000.0   \n",
       "2           2    15600.0    36     10.49       506.97     43057.0   \n",
       "3           3     7200.0    36      6.49       220.65     54000.0   \n",
       "4           4    24375.0    60     17.27       609.33     55000.0   \n",
       "\n",
       "   loan_status    dti  earliest_cr_line  open_acc  ...  home_ownership_RENT  \\\n",
       "0   Fully Paid  26.24              1990      16.0  ...                    1   \n",
       "1   Fully Paid  22.05              2004      17.0  ...                    0   \n",
       "2   Fully Paid  12.79              2007      13.0  ...                    1   \n",
       "3   Fully Paid   2.60              2006       6.0  ...                    1   \n",
       "4  Charged Off  33.95              1999      13.0  ...                    0   \n",
       "\n",
       "   zip_code_05113  zip_code_11650  zip_code_22690  zip_code_29597  \\\n",
       "0               0               0               1               0   \n",
       "1               1               0               0               0   \n",
       "2               1               0               0               0   \n",
       "3               0               0               0               0   \n",
       "4               0               1               0               0   \n",
       "\n",
       "   zip_code_30723  zip_code_48052  zip_code_70466  zip_code_86630  \\\n",
       "0               0               0               0               0   \n",
       "1               0               0               0               0   \n",
       "2               0               0               0               0   \n",
       "3               0               0               0               0   \n",
       "4               0               0               0               0   \n",
       "\n",
       "   zip_code_93700  \n",
       "0               0  \n",
       "1               0  \n",
       "2               0  \n",
       "3               0  \n",
       "4               0  \n",
       "\n",
       "[5 rows x 81 columns]"
      ]
     },
     "execution_count": 3,
     "metadata": {},
     "output_type": "execute_result"
    }
   ],
   "source": [
    "data.head()"
   ]
  },
  {
   "cell_type": "code",
   "execution_count": 4,
   "id": "c5f2aee2-df6e-4269-9b8b-0d743556a625",
   "metadata": {},
   "outputs": [],
   "source": [
    "data = data.drop('loan_status',axis = 1)\n",
    "\n",
    "X = data.drop('loan_repaid', axis = 1).values\n",
    "y = data['loan_repaid'].values"
   ]
  },
  {
   "cell_type": "markdown",
   "id": "e2d911de-ed7d-4a8a-83b6-8bcb86d5b2e6",
   "metadata": {},
   "source": [
    "## Logistic Regression"
   ]
  },
  {
   "cell_type": "code",
   "execution_count": 5,
   "id": "ef602a45-d46f-44a5-a0a4-572132ba174f",
   "metadata": {},
   "outputs": [
    {
     "name": "stdout",
     "output_type": "stream",
     "text": [
      "              precision    recall  f1-score   support\n",
      "\n",
      "           0       0.96      0.45      0.62     23047\n",
      "           1       0.88      1.00      0.94     95519\n",
      "\n",
      "    accuracy                           0.89    118566\n",
      "   macro avg       0.92      0.72      0.78    118566\n",
      "weighted avg       0.90      0.89      0.87    118566\n",
      "\n",
      "[[10427 12620]\n",
      " [  379 95140]]\n"
     ]
    }
   ],
   "source": [
    "X_train, X_test, y_train, y_test = train_test_split(X, y, test_size = 0.3, random_state = 99)\n",
    "\n",
    "#scale features\n",
    "scaler = MinMaxScaler()\n",
    "X_train = scaler.fit_transform(X_train)\n",
    "X_test = scaler.transform(X_test)\n",
    "\n",
    "#train\n",
    "logmodel = LogisticRegression(max_iter = 500)\n",
    "logmodel.fit(X_train,y_train)\n",
    "\n",
    "#predict\n",
    "predictions_logmodel = logmodel.predict(X_test)\n",
    "\n",
    "print(classification_report(y_test, predictions_logmodel))\n",
    "print(confusion_matrix(y_test, predictions_logmodel))"
   ]
  },
  {
   "cell_type": "markdown",
   "id": "8ed8e020-15af-43a5-99d1-e77ea5fac130",
   "metadata": {},
   "source": [
    "## Random forest"
   ]
  },
  {
   "cell_type": "code",
   "execution_count": 6,
   "id": "4df54a53-c703-4f12-b818-5d37447a65e8",
   "metadata": {},
   "outputs": [
    {
     "name": "stdout",
     "output_type": "stream",
     "text": [
      "              precision    recall  f1-score   support\n",
      "\n",
      "           0       0.97      0.45      0.61     23047\n",
      "           1       0.88      1.00      0.94     95519\n",
      "\n",
      "    accuracy                           0.89    118566\n",
      "   macro avg       0.93      0.72      0.78    118566\n",
      "weighted avg       0.90      0.89      0.87    118566\n",
      "\n",
      "[[10367 12680]\n",
      " [  317 95202]]\n"
     ]
    }
   ],
   "source": [
    "X_train, X_test, y_train, y_test = train_test_split(X, y, test_size = 0.3, random_state = 99)\n",
    "\n",
    "#train\n",
    "rfc = RandomForestClassifier(n_estimators = 500)\n",
    "rfc.fit(X_train, y_train)\n",
    "\n",
    "#predict\n",
    "predictions_rfc = rfc.predict(X_test)\n",
    "\n",
    "print(classification_report(y_test, predictions_rfc))\n",
    "print(confusion_matrix(y_test, predictions_rfc))"
   ]
  },
  {
   "cell_type": "markdown",
   "id": "b60f2513-3268-493b-8e7f-154a3c9eef12",
   "metadata": {},
   "source": [
    "## Neural Network"
   ]
  },
  {
   "cell_type": "code",
   "execution_count": 9,
   "id": "a615109f-7054-4bc0-b859-852fd054cbab",
   "metadata": {},
   "outputs": [
    {
     "data": {
      "text/plain": [
       "<keras.callbacks.History at 0x7f8c5709f2e0>"
      ]
     },
     "execution_count": 9,
     "metadata": {},
     "output_type": "execute_result"
    }
   ],
   "source": [
    "X_train, X_test, y_train, y_test = train_test_split(X, y, test_size = 0.3, random_state = 99)\n",
    "\n",
    "#scale features\n",
    "scaler = MinMaxScaler()\n",
    "X_train = scaler.fit_transform(X_train)\n",
    "X_test = scaler.transform(X_test)\n",
    "\n",
    "#add hidden layers\n",
    "model = Sequential()\n",
    "model.add(Dense(84, activation = 'relu'))\n",
    "model.add(Dropout(0.2))\n",
    "model.add(Dense(42, activation = 'relu'))\n",
    "model.add(Dropout(0.2))\n",
    "model.add(Dense(42, activation = 'relu'))\n",
    "model.add(Dropout(0.2))\n",
    "model.add(Dense(21, activation = 'relu'))\n",
    "model.add(Dropout(0.2))\n",
    "\n",
    "#add ouput layer\n",
    "model.add(Dense(1, activation = 'sigmoid'))\n",
    "\n",
    "#compile model\n",
    "model.compile(loss = 'binary_crossentropy', optimizer = 'adam')\n",
    "\n",
    "#train\n",
    "model.fit(x = X_train, y = y_train, epochs = 25, batch_size = 256, validation_data = (X_test,y_test), verbose = 0)"
   ]
  },
  {
   "cell_type": "code",
   "execution_count": 10,
   "id": "44ec1bd4-18a2-48c8-92d9-75ac0aa692cd",
   "metadata": {},
   "outputs": [
    {
     "data": {
      "text/plain": [
       "<AxesSubplot:>"
      ]
     },
     "execution_count": 10,
     "metadata": {},
     "output_type": "execute_result"
    },
    {
     "data": {
      "image/png": "[encoded data removed]",
      "text/plain": [
       "<Figure size 432x288 with 1 Axes>"
      ]
     },
     "metadata": {
      "needs_background": "light"
     },
     "output_type": "display_data"
    }
   ],
   "source": [
    "losses = pd.DataFrame(model.history.history)\n",
    "losses.plot()"
   ]
  },
  {
   "cell_type": "code",
   "execution_count": 11,
   "id": "e0fbafea-5924-4a2a-9e66-5d7491c1dfd4",
   "metadata": {},
   "outputs": [
    {
     "name": "stdout",
     "output_type": "stream",
     "text": [
      "3706/3706 [==============================] - 3s 872us/step\n",
      "              precision    recall  f1-score   support\n",
      "\n",
      "           0       0.98      0.44      0.61     23047\n",
      "           1       0.88      1.00      0.94     95519\n",
      "\n",
      "    accuracy                           0.89    118566\n",
      "   macro avg       0.93      0.72      0.77    118566\n",
      "weighted avg       0.90      0.89      0.87    118566\n",
      "\n",
      "[[10162 12885]\n",
      " [  155 95364]]\n"
     ]
    }
   ],
   "source": [
    "#predict\n",
    "predictions = model.predict(X_test)\n",
    "predictions_nn = np.where(predictions > 0.5, 1, 0)\n",
    "\n",
    "print(classification_report(y_test, predictions_nn))\n",
    "print(confusion_matrix(y_test, predictions_nn))"
   ]
  },
  {
   "cell_type": "code",
   "execution_count": null,
   "id": "08709445-6dc4-4288-9ba7-2103ea230f69",
   "metadata": {},
   "outputs": [],
   "source": []
  }
 ],
 "metadata": {
  "kernelspec": {
   "display_name": "Python 3",
   "language": "python",
   "name": "python3"
  },
  "language_info": {
   "codemirror_mode": {
    "name": "ipython",
    "version": 3
   },
   "file_extension": ".py",
   "mimetype": "text/x-python",
   "name": "python",
   "nbconvert_exporter": "python",
   "pygments_lexer": "ipython3",
   "version": "3.8.8"
  }
 },
 "nbformat": 4,
 "nbformat_minor": 5
}
